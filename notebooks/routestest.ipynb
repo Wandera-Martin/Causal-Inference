{
 "cells": [
  {
   "cell_type": "code",
   "execution_count": 2,
   "metadata": {},
   "outputs": [],
   "source": [
    "import osmnx as ox\n",
    "import networkx as nx\n",
    "import pandas as pd\n",
    "import os"
   ]
  },
  {
   "cell_type": "code",
   "execution_count": 3,
   "metadata": {},
   "outputs": [
    {
     "data": {
      "text/plain": [
       "'/home/martin/Desktop/10-Academy/week-8/Causal-Inference'"
      ]
     },
     "execution_count": 3,
     "metadata": {},
     "output_type": "execute_result"
    }
   ],
   "source": [
    "os.chdir(\"..\")\n",
    "os.getcwd()"
   ]
  },
  {
   "cell_type": "code",
   "execution_count": 4,
   "metadata": {},
   "outputs": [],
   "source": [
    "completed_orders = pd.read_csv('/home/martin/Desktop/10-Academy/week-8/Causal-Inference/data/cleaned_completed_orders.csv')"
   ]
  },
  {
   "cell_type": "code",
   "execution_count": null,
   "metadata": {},
   "outputs": [],
   "source": [
    "4\t392001\t6.6010417,3.2766339\t6.4501069,3.3916154\t2021-07-01 09:30:59\t2021-07-01 09:34:36\t3.6166666666666663\t9\t1\t7\t3\t0\tRain\tfalse\t6.6010417\t3.2766339\t6.4501069\t3.3916154\t21.048262052555348\t0.0269434998112587"
   ]
  },
  {
   "cell_type": "code",
   "execution_count": null,
   "metadata": {},
   "outputs": [],
   "source": []
  },
  {
   "cell_type": "code",
   "execution_count": 6,
   "metadata": {},
   "outputs": [],
   "source": [
    "# Define the start and end locations in latlng\n",
    "start_latlng = (6.6010417, -3.2766339)\n",
    "end_latlng = (6.4501069, -3.3916154)\n",
    "\n",
    "# Location where you want to find your route\n",
    "place = 'Lagos, Nigeria'\n",
    "\n",
    "# Mode of travel ('drive', 'bike', 'walk')\n",
    "mode = 'drive'\n",
    "\n",
    "# Optimizer for finding the shortest path ('length', 'time')\n",
    "optimizer = 'time'\n",
    "\n",
    "# Create graph from OSM within the boundaries of the specified place\n",
    "graph = ox.graph_from_place(place, network_type=mode)\n",
    "\n",
    "# Find the nearest node to the start location\n",
    "orig_node = ox.distance.nearest_nodes(graph, start_latlng[1], start_latlng[0])\n",
    "\n",
    "# Find the nearest node to the end location\n",
    "dest_node = ox.distance.nearest_nodes(graph, end_latlng[1], end_latlng[0])\n",
    "\n",
    "# Find the shortest path\n",
    "shortest_route = nx.shortest_path(graph, orig_node, dest_node, weight=optimizer)\n",
    "\n"
   ]
  },
  {
   "cell_type": "code",
   "execution_count": null,
   "metadata": {},
   "outputs": [],
   "source": [
    "\n",
    "# Visualize the route\n",
    "fig, ax = ox.plot_graph_route(graph, shortest_route, route_linewidth=4, origin_dest_node_size=50, node_size=None, show=False)\n",
    "ax.set_title(f'Shortest {mode} Route from {start_latlng} to {end_latlng}')\n",
    "\n",
    "# Assuming completed_orders is your DataFrame with 'Trip Distance' and 'Trip Start Time'/'Trip End Time' columns\n",
    "def calculate_speed(row):\n",
    "    distance = row['Trip Distance']\n",
    "    start_time = pd.to_datetime(row['Trip Start Time'])\n",
    "    end_time = pd.to_datetime(row['Trip End Time'])\n",
    "    time_diff = end_time - start_time\n",
    "    if time_diff.total_seconds() == 0:\n",
    "        return 0  # Default value for trips with zero duration\n",
    "    speed = distance / time_diff.total_seconds() * 3600  # Assuming distance is in km and converting speed to km/h\n",
    "    return speed\n",
    "\n",
    "# Calculate speeds for all rows in the DataFrame\n",
    "completed_orders['Speed'] = completed_orders.apply(lambda row: calculate_speed(row), axis=1)\n",
    "\n",
    "# Optionally, analyze the speeds for different modes of transportation\n",
    "speed_by_mode = completed_orders.groupby('Mode').mean()['Speed']\n",
    "print(speed_by_mode)"
   ]
  },
  {
   "cell_type": "code",
   "execution_count": null,
   "metadata": {},
   "outputs": [],
   "source": [
    "shortest_route_map = ox.plot_route_folium(graph, shortest_route)\n",
    "shortest_route_map"
   ]
  },
  {
   "cell_type": "code",
   "execution_count": null,
   "metadata": {},
   "outputs": [],
   "source": [
    "shortest_route_map = ox.plot_route_folium(graph, shortest_route, \n",
    "                                          tiles='openstreetmap')\n",
    "shortest_route_map"
   ]
  },
  {
   "cell_type": "code",
   "execution_count": null,
   "metadata": {},
   "outputs": [],
   "source": [
    "import foliumfolium.TileLayer('openstreetmap').add_to(shortest_route_map)\n",
    "folium.TileLayer('Stamen Terrain').add_to(shortest_route_map)\n",
    "folium.TileLayer('Stamen Toner').add_to(shortest_route_map)\n",
    "folium.TileLayer('Stamen Water Color').add_to(shortest_route_map)\n",
    "folium.TileLayer('cartodbpositron').add_to(shortest_route_map)\n",
    "folium.TileLayer('cartodbdark_matter').add_to(shortest_route_map)folium.LayerControl().add_to(shortest_route_map)shortest_route_map"
   ]
  }
 ],
 "metadata": {
  "kernelspec": {
   "display_name": "venv",
   "language": "python",
   "name": "python3"
  },
  "language_info": {
   "codemirror_mode": {
    "name": "ipython",
    "version": 3
   },
   "file_extension": ".py",
   "mimetype": "text/x-python",
   "name": "python",
   "nbconvert_exporter": "python",
   "pygments_lexer": "ipython3",
   "version": "3.10.4"
  }
 },
 "nbformat": 4,
 "nbformat_minor": 2
}
