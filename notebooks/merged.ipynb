{
 "cells": [
  {
   "cell_type": "code",
   "execution_count": 2,
   "metadata": {},
   "outputs": [],
   "source": [
    "import pandas as pd\n",
    "import os\n",
    "os.chdir(\"..\")\n",
    "os.getcwd()\n",
    "order_df = pd.read_csv('/home/martin/Desktop/10-Academy/week-8/Causal-Inference/cleaned_completed_orders.csv')\n",
    "requests_df = pd.read_csv('/home/martin/Desktop/10-Academy/week-8/Causal-Inference/cleaned_delivery_requests.csv')\n"
   ]
  },
  {
   "cell_type": "code",
   "execution_count": 6,
   "metadata": {},
   "outputs": [
    {
     "name": "stdout",
     "output_type": "stream",
     "text": [
      "Index(['Trip ID', 'Trip Origin', 'Trip Destination', 'Trip Start Time',\n",
      "       'Trip End Time', 'Trip Duration', 'Trip Start Hour', 'Trip Start Day',\n",
      "       'Trip Start Month', 'Trip Start Weekday', 'Is Weekend', 'Weather',\n",
      "       'Is Holiday', 'Origin Lat', 'Origin Lon', 'Destination Lat',\n",
      "       'Destination Lon', 'Trip Distance', 'Speed'],\n",
      "      dtype='object')\n",
      "Index(['id', 'order_id', 'driver_id', 'driver_action', 'lat', 'lng'], dtype='object')\n"
     ]
    }
   ],
   "source": [
    "print(order_df.columns)\n",
    "print(requests_df.columns)\n"
   ]
  },
  {
   "cell_type": "code",
   "execution_count": 8,
   "metadata": {},
   "outputs": [],
   "source": [
    "merged_df = pd.merge(order_df, requests_df, left_on='Trip ID', right_on='order_id')\n"
   ]
  },
  {
   "cell_type": "code",
   "execution_count": 13,
   "metadata": {},
   "outputs": [
    {
     "data": {
      "text/plain": [
       "Index(['Trip ID', 'Trip Origin', 'Trip Destination', 'Trip Start Time',\n",
       "       'Trip End Time', 'Trip Duration', 'Trip Start Hour', 'Trip Start Day',\n",
       "       'Trip Start Month', 'Trip Start Weekday', 'Is Weekend', 'Weather',\n",
       "       'Is Holiday', 'Origin Lat', 'Origin Lon', 'Destination Lat',\n",
       "       'Destination Lon', 'Trip Distance', 'Speed', 'id', 'order_id',\n",
       "       'driver_id', 'driver_action', 'lat', 'lng'],\n",
       "      dtype='object')"
      ]
     },
     "execution_count": 13,
     "metadata": {},
     "output_type": "execute_result"
    }
   ],
   "source": [
    "merged_df.columns"
   ]
  },
  {
   "cell_type": "code",
   "execution_count": 15,
   "metadata": {},
   "outputs": [],
   "source": [
    "# Group the merged dataframe by order_id and calculate the trip information\n",
    "grouped_df = merged_df.groupby('order_id').agg({\n",
    "    'Trip Origin': 'first',\n",
    "    'Trip Destination': 'first',\n",
    "    'Trip Start Weekday': 'first',\n",
    "    'Trip Start Day': 'first',\n",
    "    'Is Holiday': 'first',\n",
    "    'Weather': 'first',\n",
    "    'Trip Distance': 'first',\n",
    "    'Speed': 'first'\n",
    "})"
   ]
  },
  {
   "cell_type": "code",
   "execution_count": 16,
   "metadata": {},
   "outputs": [],
   "source": [
    "# Reset the index to get a column for order_id\n",
    "grouped_df = grouped_df.reset_index()"
   ]
  },
  {
   "cell_type": "code",
   "execution_count": 12,
   "metadata": {},
   "outputs": [],
   "source": []
  },
  {
   "cell_type": "code",
   "execution_count": 20,
   "metadata": {},
   "outputs": [],
   "source": [
    "\n",
    "# Rename the columns to match the original order.csv dataframe\n",
    "grouped_df = grouped_df.rename(columns={\n",
    "   'Trip Origin': 'Origin',\n",
    "    'Trip Destination': 'Destination',\n",
    "    'Trip Start Weekday': 'Weekday',\n",
    "    'Trip Start Day': 'Trip_Start_Day',\n",
    "    'Is Holiday': 'Holiday',\n",
    "    'Weather': 'Rain',\n",
    "    'Trip Distance': 'Distance',\n",
    "    'Speed': 'Speed'\n",
    "})\n"
   ]
  },
  {
   "cell_type": "code",
   "execution_count": 22,
   "metadata": {},
   "outputs": [
    {
     "data": {
      "text/html": [
       "<div>\n",
       "<style scoped>\n",
       "    .dataframe tbody tr th:only-of-type {\n",
       "        vertical-align: middle;\n",
       "    }\n",
       "\n",
       "    .dataframe tbody tr th {\n",
       "        vertical-align: top;\n",
       "    }\n",
       "\n",
       "    .dataframe thead th {\n",
       "        text-align: right;\n",
       "    }\n",
       "</style>\n",
       "<table border=\"1\" class=\"dataframe\">\n",
       "  <thead>\n",
       "    <tr style=\"text-align: right;\">\n",
       "      <th></th>\n",
       "      <th>id</th>\n",
       "      <th>order_id</th>\n",
       "      <th>driver_id</th>\n",
       "      <th>driver_action</th>\n",
       "      <th>lat</th>\n",
       "      <th>lng</th>\n",
       "      <th>Trip_Origin</th>\n",
       "      <th>Trip_Destination</th>\n",
       "      <th>Weekday</th>\n",
       "      <th>Trip_Start_Day</th>\n",
       "      <th>Holiday</th>\n",
       "      <th>Rain</th>\n",
       "      <th>Distance</th>\n",
       "      <th>Speed</th>\n",
       "    </tr>\n",
       "  </thead>\n",
       "  <tbody>\n",
       "    <tr>\n",
       "      <th>1557735</th>\n",
       "      <td>1557736</td>\n",
       "      <td>517948</td>\n",
       "      <td>243774</td>\n",
       "      <td>rejected</td>\n",
       "      <td>6.469036</td>\n",
       "      <td>3.566877</td>\n",
       "      <td>6.443373599999999,3.5523123</td>\n",
       "      <td>6.500608199999999,3.5981937</td>\n",
       "      <td>4.0</td>\n",
       "      <td>10.0</td>\n",
       "      <td>False</td>\n",
       "      <td>No-Rain</td>\n",
       "      <td>8.136366</td>\n",
       "      <td>0.000366</td>\n",
       "    </tr>\n",
       "    <tr>\n",
       "      <th>1557736</th>\n",
       "      <td>1557737</td>\n",
       "      <td>517948</td>\n",
       "      <td>245447</td>\n",
       "      <td>rejected</td>\n",
       "      <td>6.425431</td>\n",
       "      <td>3.527358</td>\n",
       "      <td>6.443373599999999,3.5523123</td>\n",
       "      <td>6.500608199999999,3.5981937</td>\n",
       "      <td>4.0</td>\n",
       "      <td>10.0</td>\n",
       "      <td>False</td>\n",
       "      <td>No-Rain</td>\n",
       "      <td>8.136366</td>\n",
       "      <td>0.000366</td>\n",
       "    </tr>\n",
       "    <tr>\n",
       "      <th>1557737</th>\n",
       "      <td>1557738</td>\n",
       "      <td>517948</td>\n",
       "      <td>239866</td>\n",
       "      <td>rejected</td>\n",
       "      <td>6.440013</td>\n",
       "      <td>3.525378</td>\n",
       "      <td>6.443373599999999,3.5523123</td>\n",
       "      <td>6.500608199999999,3.5981937</td>\n",
       "      <td>4.0</td>\n",
       "      <td>10.0</td>\n",
       "      <td>False</td>\n",
       "      <td>No-Rain</td>\n",
       "      <td>8.136366</td>\n",
       "      <td>0.000366</td>\n",
       "    </tr>\n",
       "    <tr>\n",
       "      <th>1557738</th>\n",
       "      <td>1557739</td>\n",
       "      <td>517948</td>\n",
       "      <td>243774</td>\n",
       "      <td>rejected</td>\n",
       "      <td>6.469036</td>\n",
       "      <td>3.566877</td>\n",
       "      <td>6.443373599999999,3.5523123</td>\n",
       "      <td>6.500608199999999,3.5981937</td>\n",
       "      <td>4.0</td>\n",
       "      <td>10.0</td>\n",
       "      <td>False</td>\n",
       "      <td>No-Rain</td>\n",
       "      <td>8.136366</td>\n",
       "      <td>0.000366</td>\n",
       "    </tr>\n",
       "    <tr>\n",
       "      <th>1557739</th>\n",
       "      <td>1557740</td>\n",
       "      <td>517948</td>\n",
       "      <td>244170</td>\n",
       "      <td>rejected</td>\n",
       "      <td>6.469390</td>\n",
       "      <td>3.572079</td>\n",
       "      <td>6.443373599999999,3.5523123</td>\n",
       "      <td>6.500608199999999,3.5981937</td>\n",
       "      <td>4.0</td>\n",
       "      <td>10.0</td>\n",
       "      <td>False</td>\n",
       "      <td>No-Rain</td>\n",
       "      <td>8.136366</td>\n",
       "      <td>0.000366</td>\n",
       "    </tr>\n",
       "  </tbody>\n",
       "</table>\n",
       "</div>"
      ],
      "text/plain": [
       "              id  order_id  driver_id driver_action       lat       lng  \\\n",
       "1557735  1557736    517948     243774      rejected  6.469036  3.566877   \n",
       "1557736  1557737    517948     245447      rejected  6.425431  3.527358   \n",
       "1557737  1557738    517948     239866      rejected  6.440013  3.525378   \n",
       "1557738  1557739    517948     243774      rejected  6.469036  3.566877   \n",
       "1557739  1557740    517948     244170      rejected  6.469390  3.572079   \n",
       "\n",
       "                         Trip_Origin             Trip_Destination  Weekday  \\\n",
       "1557735  6.443373599999999,3.5523123  6.500608199999999,3.5981937      4.0   \n",
       "1557736  6.443373599999999,3.5523123  6.500608199999999,3.5981937      4.0   \n",
       "1557737  6.443373599999999,3.5523123  6.500608199999999,3.5981937      4.0   \n",
       "1557738  6.443373599999999,3.5523123  6.500608199999999,3.5981937      4.0   \n",
       "1557739  6.443373599999999,3.5523123  6.500608199999999,3.5981937      4.0   \n",
       "\n",
       "         Trip_Start_Day Holiday     Rain  Distance     Speed  \n",
       "1557735            10.0   False  No-Rain  8.136366  0.000366  \n",
       "1557736            10.0   False  No-Rain  8.136366  0.000366  \n",
       "1557737            10.0   False  No-Rain  8.136366  0.000366  \n",
       "1557738            10.0   False  No-Rain  8.136366  0.000366  \n",
       "1557739            10.0   False  No-Rain  8.136366  0.000366  "
      ]
     },
     "execution_count": 22,
     "metadata": {},
     "output_type": "execute_result"
    }
   ],
   "source": [
    "result_df = pd.merge(requests_df, grouped_df, on='order_id', how='left')\n",
    "result_df.tail(5)"
   ]
  },
  {
   "cell_type": "code",
   "execution_count": 23,
   "metadata": {},
   "outputs": [],
   "source": [
    "# Save the resulting dataframe to a new CSV file to inspect\n",
    "result_df.to_csv('merged.csv', index=False)"
   ]
  },
  {
   "cell_type": "code",
   "execution_count": 25,
   "metadata": {},
   "outputs": [],
   "source": [
    "requests_df = requests_df[['id', 'order_id', 'driver_id', 'driver_action', 'lat', 'lng']]\n"
   ]
  },
  {
   "cell_type": "code",
   "execution_count": 26,
   "metadata": {},
   "outputs": [
    {
     "data": {
      "text/html": [
       "<div>\n",
       "<style scoped>\n",
       "    .dataframe tbody tr th:only-of-type {\n",
       "        vertical-align: middle;\n",
       "    }\n",
       "\n",
       "    .dataframe tbody tr th {\n",
       "        vertical-align: top;\n",
       "    }\n",
       "\n",
       "    .dataframe thead th {\n",
       "        text-align: right;\n",
       "    }\n",
       "</style>\n",
       "<table border=\"1\" class=\"dataframe\">\n",
       "  <thead>\n",
       "    <tr style=\"text-align: right;\">\n",
       "      <th></th>\n",
       "      <th>id</th>\n",
       "      <th>order_id</th>\n",
       "      <th>driver_id</th>\n",
       "      <th>driver_action</th>\n",
       "      <th>lat</th>\n",
       "      <th>lng</th>\n",
       "      <th>order_id</th>\n",
       "      <th>Trip_Origin</th>\n",
       "      <th>Trip_Destination</th>\n",
       "      <th>Weekday</th>\n",
       "      <th>Trip_Start_Day</th>\n",
       "      <th>Holiday</th>\n",
       "      <th>Rain</th>\n",
       "      <th>Distance</th>\n",
       "      <th>Speed</th>\n",
       "    </tr>\n",
       "  </thead>\n",
       "  <tbody>\n",
       "    <tr>\n",
       "      <th>1557735</th>\n",
       "      <td>1557736</td>\n",
       "      <td>517948</td>\n",
       "      <td>243774</td>\n",
       "      <td>rejected</td>\n",
       "      <td>6.469036</td>\n",
       "      <td>3.566877</td>\n",
       "      <td>NaN</td>\n",
       "      <td>NaN</td>\n",
       "      <td>NaN</td>\n",
       "      <td>NaN</td>\n",
       "      <td>NaN</td>\n",
       "      <td>NaN</td>\n",
       "      <td>NaN</td>\n",
       "      <td>NaN</td>\n",
       "      <td>NaN</td>\n",
       "    </tr>\n",
       "    <tr>\n",
       "      <th>1557736</th>\n",
       "      <td>1557737</td>\n",
       "      <td>517948</td>\n",
       "      <td>245447</td>\n",
       "      <td>rejected</td>\n",
       "      <td>6.425431</td>\n",
       "      <td>3.527358</td>\n",
       "      <td>NaN</td>\n",
       "      <td>NaN</td>\n",
       "      <td>NaN</td>\n",
       "      <td>NaN</td>\n",
       "      <td>NaN</td>\n",
       "      <td>NaN</td>\n",
       "      <td>NaN</td>\n",
       "      <td>NaN</td>\n",
       "      <td>NaN</td>\n",
       "    </tr>\n",
       "    <tr>\n",
       "      <th>1557737</th>\n",
       "      <td>1557738</td>\n",
       "      <td>517948</td>\n",
       "      <td>239866</td>\n",
       "      <td>rejected</td>\n",
       "      <td>6.440013</td>\n",
       "      <td>3.525378</td>\n",
       "      <td>NaN</td>\n",
       "      <td>NaN</td>\n",
       "      <td>NaN</td>\n",
       "      <td>NaN</td>\n",
       "      <td>NaN</td>\n",
       "      <td>NaN</td>\n",
       "      <td>NaN</td>\n",
       "      <td>NaN</td>\n",
       "      <td>NaN</td>\n",
       "    </tr>\n",
       "    <tr>\n",
       "      <th>1557738</th>\n",
       "      <td>1557739</td>\n",
       "      <td>517948</td>\n",
       "      <td>243774</td>\n",
       "      <td>rejected</td>\n",
       "      <td>6.469036</td>\n",
       "      <td>3.566877</td>\n",
       "      <td>NaN</td>\n",
       "      <td>NaN</td>\n",
       "      <td>NaN</td>\n",
       "      <td>NaN</td>\n",
       "      <td>NaN</td>\n",
       "      <td>NaN</td>\n",
       "      <td>NaN</td>\n",
       "      <td>NaN</td>\n",
       "      <td>NaN</td>\n",
       "    </tr>\n",
       "    <tr>\n",
       "      <th>1557739</th>\n",
       "      <td>1557740</td>\n",
       "      <td>517948</td>\n",
       "      <td>244170</td>\n",
       "      <td>rejected</td>\n",
       "      <td>6.469390</td>\n",
       "      <td>3.572079</td>\n",
       "      <td>NaN</td>\n",
       "      <td>NaN</td>\n",
       "      <td>NaN</td>\n",
       "      <td>NaN</td>\n",
       "      <td>NaN</td>\n",
       "      <td>NaN</td>\n",
       "      <td>NaN</td>\n",
       "      <td>NaN</td>\n",
       "      <td>NaN</td>\n",
       "    </tr>\n",
       "  </tbody>\n",
       "</table>\n",
       "</div>"
      ],
      "text/plain": [
       "              id  order_id  driver_id driver_action       lat       lng  \\\n",
       "1557735  1557736    517948     243774      rejected  6.469036  3.566877   \n",
       "1557736  1557737    517948     245447      rejected  6.425431  3.527358   \n",
       "1557737  1557738    517948     239866      rejected  6.440013  3.525378   \n",
       "1557738  1557739    517948     243774      rejected  6.469036  3.566877   \n",
       "1557739  1557740    517948     244170      rejected  6.469390  3.572079   \n",
       "\n",
       "         order_id Trip_Origin Trip_Destination  Weekday  Trip_Start_Day  \\\n",
       "1557735       NaN         NaN              NaN      NaN             NaN   \n",
       "1557736       NaN         NaN              NaN      NaN             NaN   \n",
       "1557737       NaN         NaN              NaN      NaN             NaN   \n",
       "1557738       NaN         NaN              NaN      NaN             NaN   \n",
       "1557739       NaN         NaN              NaN      NaN             NaN   \n",
       "\n",
       "        Holiday Rain  Distance  Speed  \n",
       "1557735     NaN  NaN       NaN    NaN  \n",
       "1557736     NaN  NaN       NaN    NaN  \n",
       "1557737     NaN  NaN       NaN    NaN  \n",
       "1557738     NaN  NaN       NaN    NaN  \n",
       "1557739     NaN  NaN       NaN    NaN  "
      ]
     },
     "execution_count": 26,
     "metadata": {},
     "output_type": "execute_result"
    }
   ],
   "source": [
    "# Concatenate the original order.csv dataframe with the new columns\n",
    "requests_df = pd.concat([requests_df[requests_df.columns[:6]], grouped_df], axis=1)\n",
    "requests_df.tail()"
   ]
  },
  {
   "cell_type": "code",
   "execution_count": 27,
   "metadata": {},
   "outputs": [
    {
     "name": "stdout",
     "output_type": "stream",
     "text": [
      "Index(['id', 'order_id', 'driver_id', 'driver_action', 'lat', 'lng',\n",
      "       'order_id', 'Trip_Origin', 'Trip_Destination', 'Weekday',\n",
      "       'Trip_Start_Day', 'Holiday', 'Rain', 'Distance', 'Speed'],\n",
      "      dtype='object')\n"
     ]
    }
   ],
   "source": [
    "print(requests_df.columns)\n"
   ]
  },
  {
   "cell_type": "code",
   "execution_count": 28,
   "metadata": {},
   "outputs": [
    {
     "name": "stdout",
     "output_type": "stream",
     "text": [
      "Index(['order_id', 'Trip_Origin', 'Trip_Destination', 'Weekday',\n",
      "       'Trip_Start_Day', 'Holiday', 'Rain', 'Distance', 'Speed'],\n",
      "      dtype='object')\n"
     ]
    }
   ],
   "source": [
    "print(grouped_df.columns)"
   ]
  },
  {
   "cell_type": "code",
   "execution_count": 29,
   "metadata": {},
   "outputs": [],
   "source": [
    "\n",
    "# Save the updated dataframe to a new CSV file\n",
    "order_df.to_csv('final.csv', index=False)\n"
   ]
  }
 ],
 "metadata": {
  "kernelspec": {
   "display_name": ".venv",
   "language": "python",
   "name": "python3"
  },
  "language_info": {
   "codemirror_mode": {
    "name": "ipython",
    "version": 3
   },
   "file_extension": ".py",
   "mimetype": "text/x-python",
   "name": "python",
   "nbconvert_exporter": "python",
   "pygments_lexer": "ipython3",
   "version": "3.10.4"
  }
 },
 "nbformat": 4,
 "nbformat_minor": 2
}
